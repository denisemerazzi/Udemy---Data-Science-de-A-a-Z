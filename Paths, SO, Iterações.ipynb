{
 "cells": [
  {
   "cell_type": "code",
   "execution_count": null,
   "id": "6b44fb54",
   "metadata": {},
   "outputs": [],
   "source": [
    "#Paths, SO e Iterações\n",
    "\n",
    "#Crie um diretório no c:/raw\n",
    "#Para abrir e ler um arquivo:"
   ]
  },
  {
   "cell_type": "code",
   "execution_count": null,
   "id": "b65e63e2",
   "metadata": {},
   "outputs": [],
   "source": [
    "arquivo = open('c:\\\\raw\\\\teste.txt','w')"
   ]
  },
  {
   "cell_type": "code",
   "execution_count": null,
   "id": "ae3d4039",
   "metadata": {},
   "outputs": [],
   "source": [
    "#Para fechar o arquivo:\n",
    "arquivo.close()"
   ]
  },
  {
   "cell_type": "code",
   "execution_count": null,
   "id": "f92add29",
   "metadata": {},
   "outputs": [],
   "source": [
    "#Para escrever uma nova linha (sobrescreve):\n",
    "arquivo = open('c:\\\\raw\\\\teste.txt','w')\n",
    "arquivo.write('Escrevendo uma nova linha')\n",
    "arquivo.close()"
   ]
  },
  {
   "cell_type": "code",
   "execution_count": null,
   "id": "ddd6d5b0",
   "metadata": {},
   "outputs": [],
   "source": [
    "#Para escrever uma nova linha sem sobrescrever:\n",
    "arquivo = open('c:\\\\raw\\\\teste.txt','a')\n",
    "arquivo.write('\\nEscrevendo outra linha com append')\n",
    "arquivo.close()"
   ]
  },
  {
   "cell_type": "code",
   "execution_count": null,
   "id": "c02610a5",
   "metadata": {},
   "outputs": [],
   "source": [
    "#Simplificando:\n",
    "with open('c:\\\\raw\\\\teste.txt','w') as arq:\n",
    "    arq.write('Utilizando WITH')"
   ]
  },
  {
   "cell_type": "code",
   "execution_count": null,
   "id": "dd0f63f0",
   "metadata": {},
   "outputs": [],
   "source": [
    "#Biblioteca que interage com o sistema operacional\n",
    "import os"
   ]
  },
  {
   "cell_type": "code",
   "execution_count": null,
   "id": "1e601d6c",
   "metadata": {},
   "outputs": [],
   "source": [
    "#Verificando o diretório atual:\n",
    "os.getcwd()"
   ]
  },
  {
   "cell_type": "code",
   "execution_count": null,
   "id": "2e5bd119",
   "metadata": {},
   "outputs": [],
   "source": [
    "#O comnado dir permite ver todos os métodos de uma biblioteca importada\n",
    "dir(os)"
   ]
  },
  {
   "cell_type": "code",
   "execution_count": null,
   "id": "9f8d1514",
   "metadata": {},
   "outputs": [],
   "source": [
    "#Navegando entre diretorios\n",
    "os.chdir('c:\\\\')\n",
    "os.getcwd()"
   ]
  },
  {
   "cell_type": "code",
   "execution_count": null,
   "id": "9ca3a3ab",
   "metadata": {},
   "outputs": [],
   "source": [
    "#Criando diretorios\n",
    "os.mkdir('c:\\\\ProjDataScience')\n",
    "os.chdir('c:\\\\ProjDataScience')\n",
    "with open('arquivo.txt','w') as arq:\n",
    "    arq.write('Arquivo criado')"
   ]
  },
  {
   "cell_type": "code",
   "execution_count": null,
   "id": "a4f9d155",
   "metadata": {},
   "outputs": [],
   "source": [
    "#Verificando os arquivos em um diretorio\n",
    "os.listdir()"
   ]
  },
  {
   "cell_type": "code",
   "execution_count": null,
   "id": "969a815f",
   "metadata": {},
   "outputs": [],
   "source": [
    "#Removendo arquivos\n",
    "os.remove('arquivo.txt')"
   ]
  },
  {
   "cell_type": "code",
   "execution_count": null,
   "id": "e1fbe6ef",
   "metadata": {},
   "outputs": [],
   "source": [
    "os.listdir()"
   ]
  },
  {
   "cell_type": "code",
   "execution_count": null,
   "id": "f721336d",
   "metadata": {},
   "outputs": [],
   "source": [
    "import os"
   ]
  },
  {
   "cell_type": "code",
   "execution_count": null,
   "id": "48514040",
   "metadata": {},
   "outputs": [],
   "source": [
    "dir(os.path)"
   ]
  },
  {
   "cell_type": "code",
   "execution_count": null,
   "id": "3c848e3d",
   "metadata": {},
   "outputs": [],
   "source": [
    "#Separar o path do arquivo\n",
    "fullpath = 'c:\\\\raw\\\\teste.txt'"
   ]
  },
  {
   "cell_type": "code",
   "execution_count": null,
   "id": "8014b761",
   "metadata": {},
   "outputs": [],
   "source": [
    "#Basename consegue pegar o nome do arquivo em um caminho completo\n",
    "arquivo = os.path.basename(fullpath)"
   ]
  },
  {
   "cell_type": "code",
   "execution_count": null,
   "id": "d6b51647",
   "metadata": {},
   "outputs": [],
   "source": [
    "#Separar a extensão do nome\n",
    "\n",
    "os.path.splitext(arquivo)"
   ]
  },
  {
   "cell_type": "code",
   "execution_count": null,
   "id": "cd7fbdab",
   "metadata": {},
   "outputs": [],
   "source": [
    "#Posição 0\n",
    "os.path.splitext(arquivo)[0]"
   ]
  },
  {
   "cell_type": "code",
   "execution_count": null,
   "id": "206161b8",
   "metadata": {},
   "outputs": [],
   "source": [
    "#Posição 1\n",
    "os.path.splitext(arquivo)[1]"
   ]
  },
  {
   "cell_type": "code",
   "execution_count": null,
   "id": "fdd4a5ea",
   "metadata": {},
   "outputs": [],
   "source": [
    "#Como verificar se um caminho para diretorio existe?\n",
    "os.path.exists(fullpath)"
   ]
  },
  {
   "cell_type": "code",
   "execution_count": null,
   "id": "3cfd13fe",
   "metadata": {},
   "outputs": [],
   "source": [
    "#Uma situação pratica é verificar se um diretorio existe e caso nao exista, criar\n",
    "\n",
    "path = 'c://dados//raw'\n",
    "\n",
    "if not os.path.exists(path):\n",
    "    os.makedirs(path)"
   ]
  },
  {
   "cell_type": "code",
   "execution_count": null,
   "id": "f2dc43b6",
   "metadata": {},
   "outputs": [],
   "source": []
  },
  {
   "cell_type": "code",
   "execution_count": null,
   "id": "6b2080ed",
   "metadata": {},
   "outputs": [],
   "source": []
  }
 ],
 "metadata": {
  "kernelspec": {
   "display_name": "Python 3",
   "language": "python",
   "name": "python3"
  },
  "language_info": {
   "codemirror_mode": {
    "name": "ipython",
    "version": 3
   },
   "file_extension": ".py",
   "mimetype": "text/x-python",
   "name": "python",
   "nbconvert_exporter": "python",
   "pygments_lexer": "ipython3",
   "version": "3.8.8"
  }
 },
 "nbformat": 4,
 "nbformat_minor": 5
}
