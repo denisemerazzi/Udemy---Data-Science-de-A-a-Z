{
 "cells": [
  {
   "cell_type": "code",
   "execution_count": 29,
   "id": "f8375b8c",
   "metadata": {},
   "outputs": [],
   "source": [
    "#Utilizando a Biblioteca Numpy para a relização de cálculos: Álgebra Linear: Vetores(unidimensional - lista) \n",
    "#e Matrizes(bidimensional-duas ou mais dimensões).\n",
    "#Uma imagem é uma matriz :-)\n",
    "#Matriz: Linha x coluna\n",
    "#A diagonal é a ordem da matriz"
   ]
  },
  {
   "cell_type": "code",
   "execution_count": 30,
   "id": "6b319e1b",
   "metadata": {},
   "outputs": [],
   "source": [
    "#Importando a Biblioteca\n",
    "\n",
    "import numpy as np\n"
   ]
  },
  {
   "cell_type": "code",
   "execution_count": 31,
   "id": "42248f37",
   "metadata": {},
   "outputs": [],
   "source": [
    "#Operações com arrays\n",
    "#Estruturas unidimensionais - Criando um array (listas) - A\n",
    "a1 = np.array(['Spark','Hadoop','Python','R'])"
   ]
  },
  {
   "cell_type": "code",
   "execution_count": 32,
   "id": "82e2f8e5",
   "metadata": {},
   "outputs": [
    {
     "data": {
      "text/plain": [
       "array(['Spark', 'Hadoop', 'Python', 'R'], dtype='<U6')"
      ]
     },
     "execution_count": 32,
     "metadata": {},
     "output_type": "execute_result"
    }
   ],
   "source": [
    "a1"
   ]
  },
  {
   "cell_type": "code",
   "execution_count": 33,
   "id": "58946ccf",
   "metadata": {},
   "outputs": [],
   "source": [
    "#Estruturas Bidimensionais (Matrizes)\n",
    "a2 = np.array([['Altura','Largura','Profundidade'],[42, 78, 10]]) "
   ]
  },
  {
   "cell_type": "code",
   "execution_count": 34,
   "id": "58c19486",
   "metadata": {},
   "outputs": [
    {
     "data": {
      "text/plain": [
       "array([['Altura', 'Largura', 'Profundidade'],\n",
       "       ['42', '78', '10']], dtype='<U12')"
      ]
     },
     "execution_count": 34,
     "metadata": {},
     "output_type": "execute_result"
    }
   ],
   "source": [
    "a2"
   ]
  },
  {
   "cell_type": "code",
   "execution_count": 35,
   "id": "11574cef",
   "metadata": {},
   "outputs": [],
   "source": [
    "#Exemplo:\n",
    "a3 = np.array([[10,20,30],[40,50,60]])"
   ]
  },
  {
   "cell_type": "code",
   "execution_count": 36,
   "id": "b9dbcc24",
   "metadata": {},
   "outputs": [
    {
     "data": {
      "text/plain": [
       "array([[10, 20, 30],\n",
       "       [40, 50, 60]])"
      ]
     },
     "execution_count": 36,
     "metadata": {},
     "output_type": "execute_result"
    }
   ],
   "source": [
    "a3"
   ]
  },
  {
   "cell_type": "code",
   "execution_count": 37,
   "id": "8f4ff51c",
   "metadata": {},
   "outputs": [
    {
     "name": "stdout",
     "output_type": "stream",
     "text": [
      "(4,)\n",
      "(2, 3)\n"
     ]
    }
   ],
   "source": [
    "#Tamanho do array (shape) - tamamnho da matriz\n",
    "print(a1.shape)\n",
    "print(a2.shape)"
   ]
  },
  {
   "cell_type": "code",
   "execution_count": 38,
   "id": "3f302199",
   "metadata": {},
   "outputs": [
    {
     "data": {
      "text/plain": [
       "1"
      ]
     },
     "execution_count": 38,
     "metadata": {},
     "output_type": "execute_result"
    }
   ],
   "source": [
    "#Dimensoes do Array\n",
    "a1.ndim"
   ]
  },
  {
   "cell_type": "code",
   "execution_count": 39,
   "id": "2a253e70",
   "metadata": {},
   "outputs": [],
   "source": [
    "# Quando utilizar os parenteses?\n",
    "# O uso de parênteses reflete uma AÇÃO, enquanto a ausência, reflete uma característica"
   ]
  },
  {
   "cell_type": "code",
   "execution_count": 40,
   "id": "2d4a906b",
   "metadata": {},
   "outputs": [
    {
     "data": {
      "text/plain": [
       "60"
      ]
     },
     "execution_count": 40,
     "metadata": {},
     "output_type": "execute_result"
    }
   ],
   "source": [
    "#O método max() não funciona em arrays de tipo heterogeneo\n",
    "a3.max()"
   ]
  },
  {
   "cell_type": "code",
   "execution_count": 41,
   "id": "ee587cbd",
   "metadata": {},
   "outputs": [
    {
     "data": {
      "text/plain": [
       "2"
      ]
     },
     "execution_count": 41,
     "metadata": {},
     "output_type": "execute_result"
    }
   ],
   "source": [
    "# Atributo\n",
    "a2.ndim"
   ]
  },
  {
   "cell_type": "code",
   "execution_count": 42,
   "id": "ec3102f2",
   "metadata": {},
   "outputs": [
    {
     "data": {
      "text/plain": [
       "array([ 0,  1,  2,  3,  4,  5,  6,  7,  8,  9, 10, 11, 12, 13, 14, 15, 16,\n",
       "       17, 18, 19])"
      ]
     },
     "execution_count": 42,
     "metadata": {},
     "output_type": "execute_result"
    }
   ],
   "source": [
    "#Método Arange\n",
    "array = np.arange(20)\n",
    "array"
   ]
  },
  {
   "cell_type": "code",
   "execution_count": 43,
   "id": "20b88e29",
   "metadata": {},
   "outputs": [],
   "source": [
    "# Usando start/end - de 0 a 100 de 10 em 10\n",
    "array = np.arange(0, 100, 10)"
   ]
  },
  {
   "cell_type": "code",
   "execution_count": 44,
   "id": "dbb1a98e",
   "metadata": {},
   "outputs": [
    {
     "data": {
      "text/plain": [
       "array([ 0, 10, 20, 30, 40, 50, 60, 70, 80, 90])"
      ]
     },
     "execution_count": 44,
     "metadata": {},
     "output_type": "execute_result"
    }
   ],
   "source": [
    "array"
   ]
  },
  {
   "cell_type": "code",
   "execution_count": 45,
   "id": "7a3ee31f",
   "metadata": {},
   "outputs": [
    {
     "data": {
      "text/plain": [
       "array([ 0.        ,  0.52631579,  1.05263158,  1.57894737,  2.10526316,\n",
       "        2.63157895,  3.15789474,  3.68421053,  4.21052632,  4.73684211,\n",
       "        5.26315789,  5.78947368,  6.31578947,  6.84210526,  7.36842105,\n",
       "        7.89473684,  8.42105263,  8.94736842,  9.47368421, 10.        ])"
      ]
     },
     "execution_count": 45,
     "metadata": {},
     "output_type": "execute_result"
    }
   ],
   "source": [
    "# IMPORTANTE: A diferença do linspace para o arange é que:  no arange o ultimo argumento é o incremento,\n",
    "# e no linspace o último argumento é o número de elementos do vetor (aleatorio)\n",
    "matriz = np.linspace(0, 10, 20)\n",
    "matriz"
   ]
  },
  {
   "cell_type": "code",
   "execution_count": 46,
   "id": "5cf9612a",
   "metadata": {},
   "outputs": [
    {
     "data": {
      "text/plain": [
       "array([ 0. ,  2.5,  5. ,  7.5, 10. ])"
      ]
     },
     "execution_count": 46,
     "metadata": {},
     "output_type": "execute_result"
    }
   ],
   "source": [
    "matriz = np.linspace(0,10,5)\n",
    "matriz"
   ]
  },
  {
   "cell_type": "code",
   "execution_count": 47,
   "id": "9463d706",
   "metadata": {},
   "outputs": [
    {
     "data": {
      "text/plain": [
       "array([0.  , 1.25, 2.5 , 3.75, 5.  ])"
      ]
     },
     "execution_count": 47,
     "metadata": {},
     "output_type": "execute_result"
    }
   ],
   "source": [
    "matriz = np.linspace(0,5,5)\n",
    "matriz"
   ]
  },
  {
   "cell_type": "code",
   "execution_count": 48,
   "id": "529c1169",
   "metadata": {},
   "outputs": [],
   "source": [
    "#ESTRUTURAS DE MATRIZES:"
   ]
  },
  {
   "cell_type": "code",
   "execution_count": 49,
   "id": "9a6745a5",
   "metadata": {},
   "outputs": [
    {
     "data": {
      "text/plain": [
       "array([[0., 0., 0., 0., 0., 0., 0., 0., 0., 0.],\n",
       "       [0., 0., 0., 0., 0., 0., 0., 0., 0., 0.],\n",
       "       [0., 0., 0., 0., 0., 0., 0., 0., 0., 0.],\n",
       "       [0., 0., 0., 0., 0., 0., 0., 0., 0., 0.],\n",
       "       [0., 0., 0., 0., 0., 0., 0., 0., 0., 0.],\n",
       "       [0., 0., 0., 0., 0., 0., 0., 0., 0., 0.],\n",
       "       [0., 0., 0., 0., 0., 0., 0., 0., 0., 0.],\n",
       "       [0., 0., 0., 0., 0., 0., 0., 0., 0., 0.],\n",
       "       [0., 0., 0., 0., 0., 0., 0., 0., 0., 0.],\n",
       "       [0., 0., 0., 0., 0., 0., 0., 0., 0., 0.]])"
      ]
     },
     "execution_count": 49,
     "metadata": {},
     "output_type": "execute_result"
    }
   ],
   "source": [
    "#numpy.zeros\n",
    "\n",
    "matriz = np.zeros((10, 10))\n",
    "matriz"
   ]
  },
  {
   "cell_type": "code",
   "execution_count": 50,
   "id": "8f17567a",
   "metadata": {},
   "outputs": [
    {
     "data": {
      "text/plain": [
       "array([[1., 1., 1.],\n",
       "       [1., 1., 1.]])"
      ]
     },
     "execution_count": 50,
     "metadata": {},
     "output_type": "execute_result"
    }
   ],
   "source": [
    "#numpy.ones\n",
    "matriz = np.ones((2, 3))\n",
    "matriz"
   ]
  },
  {
   "cell_type": "code",
   "execution_count": 51,
   "id": "db627ddf",
   "metadata": {},
   "outputs": [
    {
     "data": {
      "text/plain": [
       "array([[1., 0., 0., 0., 0., 0., 0., 0., 0., 0.],\n",
       "       [0., 1., 0., 0., 0., 0., 0., 0., 0., 0.],\n",
       "       [0., 0., 1., 0., 0., 0., 0., 0., 0., 0.],\n",
       "       [0., 0., 0., 1., 0., 0., 0., 0., 0., 0.],\n",
       "       [0., 0., 0., 0., 1., 0., 0., 0., 0., 0.],\n",
       "       [0., 0., 0., 0., 0., 1., 0., 0., 0., 0.],\n",
       "       [0., 0., 0., 0., 0., 0., 1., 0., 0., 0.],\n",
       "       [0., 0., 0., 0., 0., 0., 0., 1., 0., 0.],\n",
       "       [0., 0., 0., 0., 0., 0., 0., 0., 1., 0.],\n",
       "       [0., 0., 0., 0., 0., 0., 0., 0., 0., 1.]])"
      ]
     },
     "execution_count": 51,
     "metadata": {},
     "output_type": "execute_result"
    }
   ],
   "source": [
    "# Numpy.eye - Produz uma matriz do tipo Identitiy\n",
    "matriz = np.eye(10)\n",
    "matriz"
   ]
  },
  {
   "cell_type": "code",
   "execution_count": 52,
   "id": "564be68d",
   "metadata": {},
   "outputs": [
    {
     "data": {
      "text/plain": [
       "array([[ 2,  0,  0,  0,  0,  0,  0,  0,  0,  0],\n",
       "       [ 0,  4,  0,  0,  0,  0,  0,  0,  0,  0],\n",
       "       [ 0,  0,  6,  0,  0,  0,  0,  0,  0,  0],\n",
       "       [ 0,  0,  0,  8,  0,  0,  0,  0,  0,  0],\n",
       "       [ 0,  0,  0,  0, 10,  0,  0,  0,  0,  0],\n",
       "       [ 0,  0,  0,  0,  0, 12,  0,  0,  0,  0],\n",
       "       [ 0,  0,  0,  0,  0,  0, 14,  0,  0,  0],\n",
       "       [ 0,  0,  0,  0,  0,  0,  0, 16,  0,  0],\n",
       "       [ 0,  0,  0,  0,  0,  0,  0,  0, 18,  0],\n",
       "       [ 0,  0,  0,  0,  0,  0,  0,  0,  0, 20]])"
      ]
     },
     "execution_count": 52,
     "metadata": {},
     "output_type": "execute_result"
    }
   ],
   "source": [
    "# numpy.diag produz o mesmo resultado, porem podemos definir os numeros das diagonais\n",
    "\n",
    "matriz = np.diag((2,4,6,8,10,12,14,16,18,20))\n",
    "matriz"
   ]
  },
  {
   "cell_type": "code",
   "execution_count": 53,
   "id": "ffb6d857",
   "metadata": {},
   "outputs": [
    {
     "data": {
      "text/plain": [
       "array([[ 1.11893226e-311,  1.11896010e-311,  5.03835034e+223,\n",
       "         7.28929489e-086,  6.01346953e-154],\n",
       "       [ 7.25906902e-043,  1.14303483e+243,  6.43711403e+170,\n",
       "         3.67292746e+194,  2.64521820e+185],\n",
       "       [ 9.77443709e+199,  3.65582216e+233,  1.05034473e-153,\n",
       "         6.01346953e-154,  8.26219277e-072],\n",
       "       [ 1.35350041e+166,  3.05467722e+223,  7.49762279e+247,\n",
       "         9.82986171e+242,  8.09375162e+054],\n",
       "       [ 3.64913061e+233,  4.47593784e-091,  1.04419813e+228,\n",
       "         2.21208742e+214,  1.27664645e-152],\n",
       "       [ 8.79345187e+199,  9.19596581e+170,  2.66064808e-260,\n",
       "        -3.63002359e+125,  3.32653114e-111],\n",
       "       [ 7.50057371e+247,  7.93541578e+069,  3.86093052e+228,\n",
       "         6.20524036e+228, -5.52367813e+127],\n",
       "       [ 4.98112458e+127,  3.11732882e+150,  5.30486669e+180,\n",
       "         2.41577945e-311,  7.69152976e+218],\n",
       "       [ 7.49994980e+247,  1.79209390e-313,  7.52516610e+058,\n",
       "         5.26616474e-090,  7.48269334e+247],\n",
       "       [ 1.20990565e+185,  7.27455743e+199,  5.13156038e-266,\n",
       "         3.99046880e-008,  6.76280059e-311]])"
      ]
     },
     "execution_count": 53,
     "metadata": {},
     "output_type": "execute_result"
    }
   ],
   "source": [
    "# numpy.empty produz uma matriz vazia\n",
    "\n",
    "matriz = np.empty((10,5))\n",
    "matriz"
   ]
  },
  {
   "cell_type": "code",
   "execution_count": 54,
   "id": "fe90c134",
   "metadata": {},
   "outputs": [
    {
     "data": {
      "text/plain": [
       "array([[1, 2, 1, 2, 1, 2],\n",
       "       [3, 4, 3, 4, 3, 4],\n",
       "       [5, 6, 5, 6, 5, 6]])"
      ]
     },
     "execution_count": 54,
     "metadata": {},
     "output_type": "execute_result"
    }
   ],
   "source": [
    "#NUmpy tile\n",
    "np.tile(np.array([[1, 2], [3, 4], [5, 6]]), 3)"
   ]
  },
  {
   "cell_type": "code",
   "execution_count": 55,
   "id": "cea5d541",
   "metadata": {},
   "outputs": [
    {
     "data": {
      "text/plain": [
       "array([[1, 2, 1, 2, 1, 2, 1, 2, 1, 2, 1, 2],\n",
       "       [3, 4, 3, 4, 3, 4, 3, 4, 3, 4, 3, 4],\n",
       "       [5, 6, 5, 6, 5, 6, 5, 6, 5, 6, 5, 6],\n",
       "       [1, 2, 1, 2, 1, 2, 1, 2, 1, 2, 1, 2],\n",
       "       [3, 4, 3, 4, 3, 4, 3, 4, 3, 4, 3, 4],\n",
       "       [5, 6, 5, 6, 5, 6, 5, 6, 5, 6, 5, 6],\n",
       "       [1, 2, 1, 2, 1, 2, 1, 2, 1, 2, 1, 2],\n",
       "       [3, 4, 3, 4, 3, 4, 3, 4, 3, 4, 3, 4],\n",
       "       [5, 6, 5, 6, 5, 6, 5, 6, 5, 6, 5, 6]])"
      ]
     },
     "execution_count": 55,
     "metadata": {},
     "output_type": "execute_result"
    }
   ],
   "source": [
    "#Num de vezes do array na vertical , num de vezes array na horizontal\n",
    "np.tile(np.array([[1, 2], [3, 4], [5, 6]]), (3,6)) "
   ]
  },
  {
   "cell_type": "code",
   "execution_count": 56,
   "id": "f89ab1dc",
   "metadata": {},
   "outputs": [],
   "source": [
    "##Tipos de dados"
   ]
  },
  {
   "cell_type": "code",
   "execution_count": null,
   "id": "1543ffa2",
   "metadata": {},
   "outputs": [],
   "source": [
    "import numpy as np"
   ]
  },
  {
   "cell_type": "code",
   "execution_count": 27,
   "id": "3046bc09",
   "metadata": {},
   "outputs": [],
   "source": [
    "#Criando o array float (com pontos flutuantes)\n",
    "a = np.array([-10, 10, 20, 30], dtype = 'float')"
   ]
  },
  {
   "cell_type": "code",
   "execution_count": 28,
   "id": "d3fc01df",
   "metadata": {},
   "outputs": [
    {
     "data": {
      "text/plain": [
       "array([-10.,  10.,  20.,  30.])"
      ]
     },
     "execution_count": 28,
     "metadata": {},
     "output_type": "execute_result"
    }
   ],
   "source": [
    "a"
   ]
  },
  {
   "cell_type": "code",
   "execution_count": 57,
   "id": "00336f23",
   "metadata": {},
   "outputs": [
    {
     "data": {
      "text/plain": [
       "dtype('float64')"
      ]
     },
     "execution_count": 57,
     "metadata": {},
     "output_type": "execute_result"
    }
   ],
   "source": [
    "#A propriedade dtype me retorna o tipo dos elementos do array\n",
    "\n",
    "a.dtype"
   ]
  },
  {
   "cell_type": "code",
   "execution_count": 58,
   "id": "75036734",
   "metadata": {},
   "outputs": [
    {
     "data": {
      "text/plain": [
       "dtype('int32')"
      ]
     },
     "execution_count": 58,
     "metadata": {},
     "output_type": "execute_result"
    }
   ],
   "source": [
    "#Inteiro\n",
    "b = np.array([-10, 10, 20, 30])\n",
    "b.dtype"
   ]
  },
  {
   "cell_type": "code",
   "execution_count": 59,
   "id": "c7a7e591",
   "metadata": {},
   "outputs": [
    {
     "data": {
      "text/plain": [
       "dtype('float64')"
      ]
     },
     "execution_count": 59,
     "metadata": {},
     "output_type": "execute_result"
    }
   ],
   "source": [
    "#float\n",
    "c = np.array([10,20,30,40.5])\n",
    "c.dtype"
   ]
  },
  {
   "cell_type": "code",
   "execution_count": null,
   "id": "4e99ec61",
   "metadata": {},
   "outputs": [],
   "source": [
    "#string\n",
    "\n",
    "d = np.array(['Universidade','dos','Dados'])"
   ]
  },
  {
   "cell_type": "code",
   "execution_count": 60,
   "id": "bd0aaf0b",
   "metadata": {},
   "outputs": [],
   "source": [
    "#Tipo boleano (sem aspas)\n",
    "e = np.array([False, False, True])"
   ]
  },
  {
   "cell_type": "code",
   "execution_count": 61,
   "id": "a26f02ff",
   "metadata": {},
   "outputs": [
    {
     "data": {
      "text/plain": [
       "dtype('bool')"
      ]
     },
     "execution_count": 61,
     "metadata": {},
     "output_type": "execute_result"
    }
   ],
   "source": [
    "e.dtype"
   ]
  },
  {
   "cell_type": "code",
   "execution_count": 62,
   "id": "bd810315",
   "metadata": {},
   "outputs": [
    {
     "data": {
      "text/plain": [
       "dtype('float64')"
      ]
     },
     "execution_count": 62,
     "metadata": {},
     "output_type": "execute_result"
    }
   ],
   "source": [
    "#Cast de arrays\n",
    "f = np.array([-9, 10, 20.7])\n",
    "f.dtype"
   ]
  },
  {
   "cell_type": "code",
   "execution_count": 63,
   "id": "8ebc6040",
   "metadata": {},
   "outputs": [
    {
     "data": {
      "text/plain": [
       "array([-9, 10, 20])"
      ]
     },
     "execution_count": 63,
     "metadata": {},
     "output_type": "execute_result"
    }
   ],
   "source": [
    "#Cast com a função astype\n",
    "f.astype(int)"
   ]
  },
  {
   "cell_type": "markdown",
   "id": "e03a2090",
   "metadata": {},
   "source": [
    "# Operações aritméticas"
   ]
  },
  {
   "cell_type": "code",
   "execution_count": 64,
   "id": "4ade79d3",
   "metadata": {},
   "outputs": [
    {
     "data": {
      "text/plain": [
       "array([0, 1, 2, 3, 4])"
      ]
     },
     "execution_count": 64,
     "metadata": {},
     "output_type": "execute_result"
    }
   ],
   "source": [
    "# a função arange cria um array\n",
    "\n",
    "array = np.arange(0,5)\n",
    "array"
   ]
  },
  {
   "cell_type": "code",
   "execution_count": 65,
   "id": "8f8e030e",
   "metadata": {},
   "outputs": [],
   "source": [
    "array = np.arange(0, 10) * 10"
   ]
  },
  {
   "cell_type": "code",
   "execution_count": 66,
   "id": "57e552c0",
   "metadata": {},
   "outputs": [
    {
     "data": {
      "text/plain": [
       "array([ 0, 10, 20, 30, 40, 50, 60, 70, 80, 90])"
      ]
     },
     "execution_count": 66,
     "metadata": {},
     "output_type": "execute_result"
    }
   ],
   "source": [
    "array"
   ]
  },
  {
   "cell_type": "code",
   "execution_count": 67,
   "id": "f80993d3",
   "metadata": {},
   "outputs": [],
   "source": [
    "# Potencia\n",
    "array = np.arange(10) ** 2"
   ]
  },
  {
   "cell_type": "code",
   "execution_count": 68,
   "id": "3a753e6d",
   "metadata": {},
   "outputs": [
    {
     "data": {
      "text/plain": [
       "array([ 0,  1,  4,  9, 16, 25, 36, 49, 64, 81], dtype=int32)"
      ]
     },
     "execution_count": 68,
     "metadata": {},
     "output_type": "execute_result"
    }
   ],
   "source": [
    "array"
   ]
  },
  {
   "cell_type": "code",
   "execution_count": null,
   "id": "1bbbf0e1",
   "metadata": {},
   "outputs": [],
   "source": [
    "# Operações aritméticas entre arrays"
   ]
  },
  {
   "cell_type": "code",
   "execution_count": null,
   "id": "69cb5467",
   "metadata": {},
   "outputs": [],
   "source": [
    "#Exemplo:\n",
    "#A (0-1-2-3-4-5-6-7-8-9)\n",
    "#B (1-2-3-4-5-6-7-8-9-10)"
   ]
  },
  {
   "cell_type": "code",
   "execution_count": 69,
   "id": "4384b072",
   "metadata": {},
   "outputs": [],
   "source": [
    "arrayA = np.arange(0,10)\n",
    "arrayB = np.arange(0,10)+1"
   ]
  },
  {
   "cell_type": "code",
   "execution_count": 70,
   "id": "5ae9c991",
   "metadata": {},
   "outputs": [
    {
     "data": {
      "text/plain": [
       "array([0, 1, 2, 3, 4, 5, 6, 7, 8, 9])"
      ]
     },
     "execution_count": 70,
     "metadata": {},
     "output_type": "execute_result"
    }
   ],
   "source": [
    "arrayA"
   ]
  },
  {
   "cell_type": "code",
   "execution_count": 71,
   "id": "62bf1000",
   "metadata": {},
   "outputs": [
    {
     "data": {
      "text/plain": [
       "array([ 1,  2,  3,  4,  5,  6,  7,  8,  9, 10])"
      ]
     },
     "execution_count": 71,
     "metadata": {},
     "output_type": "execute_result"
    }
   ],
   "source": [
    "arrayB"
   ]
  },
  {
   "cell_type": "code",
   "execution_count": 72,
   "id": "30343385",
   "metadata": {},
   "outputs": [
    {
     "data": {
      "text/plain": [
       "array([ 1,  3,  5,  7,  9, 11, 13, 15, 17, 19])"
      ]
     },
     "execution_count": 72,
     "metadata": {},
     "output_type": "execute_result"
    }
   ],
   "source": [
    "# Soma\n",
    "arrayA + arrayB"
   ]
  },
  {
   "cell_type": "code",
   "execution_count": 73,
   "id": "b9163cb6",
   "metadata": {},
   "outputs": [
    {
     "data": {
      "text/plain": [
       "array([-1, -1, -1, -1, -1, -1, -1, -1, -1, -1])"
      ]
     },
     "execution_count": 73,
     "metadata": {},
     "output_type": "execute_result"
    }
   ],
   "source": [
    "# Subtração\n",
    "arrayA - arrayB"
   ]
  },
  {
   "cell_type": "code",
   "execution_count": 74,
   "id": "42ebd3d9",
   "metadata": {},
   "outputs": [
    {
     "data": {
      "text/plain": [
       "array([0.        , 0.5       , 0.66666667, 0.75      , 0.8       ,\n",
       "       0.83333333, 0.85714286, 0.875     , 0.88888889, 0.9       ])"
      ]
     },
     "execution_count": 74,
     "metadata": {},
     "output_type": "execute_result"
    }
   ],
   "source": [
    "# Divisão\n",
    "arrayA / arrayB"
   ]
  },
  {
   "cell_type": "code",
   "execution_count": 75,
   "id": "2c7ac230",
   "metadata": {},
   "outputs": [
    {
     "data": {
      "text/plain": [
       "array([ 0,  2,  6, 12, 20, 30, 42, 56, 72, 90])"
      ]
     },
     "execution_count": 75,
     "metadata": {},
     "output_type": "execute_result"
    }
   ],
   "source": [
    "# Multiplicação\n",
    "arrayA * arrayB"
   ]
  },
  {
   "cell_type": "code",
   "execution_count": 76,
   "id": "a9c72c51",
   "metadata": {},
   "outputs": [
    {
     "data": {
      "text/plain": [
       "array([False, False, False, False, False, False, False, False, False,\n",
       "       False])"
      ]
     },
     "execution_count": 76,
     "metadata": {},
     "output_type": "execute_result"
    }
   ],
   "source": [
    "# Comparacao de arrays\n",
    "arrayA == arrayB"
   ]
  },
  {
   "cell_type": "code",
   "execution_count": 77,
   "id": "d028dfc8",
   "metadata": {},
   "outputs": [
    {
     "data": {
      "text/plain": [
       "array([False, False, False, False, False, False, False, False, False,\n",
       "       False])"
      ]
     },
     "execution_count": 77,
     "metadata": {},
     "output_type": "execute_result"
    }
   ],
   "source": [
    "arrayA > arrayB"
   ]
  },
  {
   "cell_type": "code",
   "execution_count": 78,
   "id": "f1e7b837",
   "metadata": {},
   "outputs": [
    {
     "data": {
      "text/plain": [
       "array([ True,  True,  True,  True,  True,  True,  True,  True,  True,\n",
       "        True])"
      ]
     },
     "execution_count": 78,
     "metadata": {},
     "output_type": "execute_result"
    }
   ],
   "source": [
    "arrayA < arrayB"
   ]
  },
  {
   "cell_type": "code",
   "execution_count": null,
   "id": "367badc8",
   "metadata": {},
   "outputs": [],
   "source": [
    "#Tabela verdade para comparar dois arrays: operador lógico AND"
   ]
  },
  {
   "cell_type": "code",
   "execution_count": 79,
   "id": "49be52c2",
   "metadata": {},
   "outputs": [
    {
     "data": {
      "text/plain": [
       "array([False, False,  True, False])"
      ]
     },
     "execution_count": 79,
     "metadata": {},
     "output_type": "execute_result"
    }
   ],
   "source": [
    "array1 = np.array([True,False,True,False])\n",
    "array2 = np.array([False,False,True, False])\n",
    "np.logical_and(array1, array2)"
   ]
  },
  {
   "cell_type": "code",
   "execution_count": null,
   "id": "f33780fc",
   "metadata": {},
   "outputs": [],
   "source": [
    "#Tabela verdade para comparar dois arrays: operador lógico OR"
   ]
  },
  {
   "cell_type": "code",
   "execution_count": 80,
   "id": "586b6df2",
   "metadata": {},
   "outputs": [
    {
     "data": {
      "text/plain": [
       "array([ True, False,  True, False])"
      ]
     },
     "execution_count": 80,
     "metadata": {},
     "output_type": "execute_result"
    }
   ],
   "source": [
    "array1 = np.array([True,False,True,False])\n",
    "array2 = np.array([False,False,True, False])\n",
    "np.logical_or(array1, array2)"
   ]
  },
  {
   "cell_type": "code",
   "execution_count": null,
   "id": "4fe65384",
   "metadata": {},
   "outputs": [],
   "source": [
    "#Arrays com tamanhos diferentes: não podemos somar e multiplicar de forma simples\n",
    "Exemplo: A + B ou A * B\n",
    "A = np.array([1,2,3,4,5])\n",
    "B = np.array([1,2,3])"
   ]
  },
  {
   "cell_type": "code",
   "execution_count": 81,
   "id": "7bb94abd",
   "metadata": {},
   "outputs": [],
   "source": [
    "A = np.array([2,4,6])\n",
    "B = np.array([2,2,2])"
   ]
  },
  {
   "cell_type": "code",
   "execution_count": 82,
   "id": "8694e1ab",
   "metadata": {},
   "outputs": [
    {
     "data": {
      "text/plain": [
       "array([ 4,  8, 12])"
      ]
     },
     "execution_count": 82,
     "metadata": {},
     "output_type": "execute_result"
    }
   ],
   "source": [
    "#Hadmard Product\n",
    "\n",
    "A * B"
   ]
  },
  {
   "cell_type": "code",
   "execution_count": 83,
   "id": "6ee16006",
   "metadata": {},
   "outputs": [
    {
     "name": "stdout",
     "output_type": "stream",
     "text": [
      "24\n"
     ]
    }
   ],
   "source": [
    "#Dot Product\n",
    "\n",
    "print(np.dot(A,B))"
   ]
  },
  {
   "cell_type": "code",
   "execution_count": 84,
   "id": "7d199d14",
   "metadata": {},
   "outputs": [],
   "source": [
    "A = np.array([3,7,10])\n",
    "B = np.array([9,3,2])"
   ]
  },
  {
   "cell_type": "code",
   "execution_count": 85,
   "id": "4257024d",
   "metadata": {},
   "outputs": [
    {
     "data": {
      "text/plain": [
       "array([27, 21, 20])"
      ]
     },
     "execution_count": 85,
     "metadata": {},
     "output_type": "execute_result"
    }
   ],
   "source": [
    "#Hadmard Product (multiplicação)\n",
    "\n",
    "A * B"
   ]
  },
  {
   "cell_type": "code",
   "execution_count": 86,
   "id": "18047ced",
   "metadata": {},
   "outputs": [
    {
     "name": "stdout",
     "output_type": "stream",
     "text": [
      "68\n"
     ]
    }
   ],
   "source": [
    "#Soma dos resultados\n",
    "print(np.dot(A,B))"
   ]
  },
  {
   "cell_type": "code",
   "execution_count": null,
   "id": "0e8ef976",
   "metadata": {},
   "outputs": [],
   "source": [
    "#Cópias de arrays"
   ]
  },
  {
   "cell_type": "code",
   "execution_count": 87,
   "id": "203aa984",
   "metadata": {},
   "outputs": [],
   "source": [
    "A = np.arange(10)"
   ]
  },
  {
   "cell_type": "code",
   "execution_count": 88,
   "id": "9c27e593",
   "metadata": {},
   "outputs": [
    {
     "data": {
      "text/plain": [
       "array([0, 1, 2, 3, 4, 5, 6, 7, 8, 9])"
      ]
     },
     "execution_count": 88,
     "metadata": {},
     "output_type": "execute_result"
    }
   ],
   "source": [
    "A"
   ]
  },
  {
   "cell_type": "code",
   "execution_count": 89,
   "id": "ea23d1a1",
   "metadata": {},
   "outputs": [],
   "source": [
    "B = A[5:]\n",
    "A[:] = 0"
   ]
  },
  {
   "cell_type": "code",
   "execution_count": 90,
   "id": "b3090113",
   "metadata": {},
   "outputs": [
    {
     "data": {
      "text/plain": [
       "array([0, 0, 0, 0, 0])"
      ]
     },
     "execution_count": 90,
     "metadata": {},
     "output_type": "execute_result"
    }
   ],
   "source": [
    "B"
   ]
  },
  {
   "cell_type": "code",
   "execution_count": 91,
   "id": "5ee0f773",
   "metadata": {},
   "outputs": [
    {
     "data": {
      "text/plain": [
       "array([0, 0, 0, 0, 0, 0, 0, 0, 0, 0])"
      ]
     },
     "execution_count": 91,
     "metadata": {},
     "output_type": "execute_result"
    }
   ],
   "source": [
    "A"
   ]
  },
  {
   "cell_type": "code",
   "execution_count": 92,
   "id": "0881cc9a",
   "metadata": {},
   "outputs": [],
   "source": [
    "A = np.arange(10)"
   ]
  },
  {
   "cell_type": "code",
   "execution_count": 93,
   "id": "22bc35cc",
   "metadata": {},
   "outputs": [
    {
     "data": {
      "text/plain": [
       "array([0, 1, 2, 3, 4, 5, 6, 7, 8, 9])"
      ]
     },
     "execution_count": 93,
     "metadata": {},
     "output_type": "execute_result"
    }
   ],
   "source": [
    "A"
   ]
  },
  {
   "cell_type": "code",
   "execution_count": 94,
   "id": "fdee4cbd",
   "metadata": {},
   "outputs": [],
   "source": [
    "B = A[5:].copy()"
   ]
  },
  {
   "cell_type": "code",
   "execution_count": 95,
   "id": "d30d922a",
   "metadata": {},
   "outputs": [
    {
     "data": {
      "text/plain": [
       "array([5, 6, 7, 8, 9])"
      ]
     },
     "execution_count": 95,
     "metadata": {},
     "output_type": "execute_result"
    }
   ],
   "source": [
    "B"
   ]
  },
  {
   "cell_type": "code",
   "execution_count": 96,
   "id": "e3120ed3",
   "metadata": {},
   "outputs": [],
   "source": [
    "A[:] = 0"
   ]
  },
  {
   "cell_type": "code",
   "execution_count": 97,
   "id": "2b34aea3",
   "metadata": {},
   "outputs": [
    {
     "data": {
      "text/plain": [
       "array([0, 0, 0, 0, 0, 0, 0, 0, 0, 0])"
      ]
     },
     "execution_count": 97,
     "metadata": {},
     "output_type": "execute_result"
    }
   ],
   "source": [
    "A"
   ]
  },
  {
   "cell_type": "code",
   "execution_count": 98,
   "id": "0aef1feb",
   "metadata": {},
   "outputs": [
    {
     "data": {
      "text/plain": [
       "array([5, 6, 7, 8, 9])"
      ]
     },
     "execution_count": 98,
     "metadata": {},
     "output_type": "execute_result"
    }
   ],
   "source": [
    "B"
   ]
  },
  {
   "cell_type": "code",
   "execution_count": null,
   "id": "29a2a045",
   "metadata": {},
   "outputs": [],
   "source": []
  }
 ],
 "metadata": {
  "kernelspec": {
   "display_name": "Python 3",
   "language": "python",
   "name": "python3"
  },
  "language_info": {
   "codemirror_mode": {
    "name": "ipython",
    "version": 3
   },
   "file_extension": ".py",
   "mimetype": "text/x-python",
   "name": "python",
   "nbconvert_exporter": "python",
   "pygments_lexer": "ipython3",
   "version": "3.8.8"
  }
 },
 "nbformat": 4,
 "nbformat_minor": 5
}
